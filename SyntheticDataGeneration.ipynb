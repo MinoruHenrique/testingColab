{
  "nbformat": 4,
  "nbformat_minor": 0,
  "metadata": {
    "colab": {
      "name": "SyntheticDataGeneration",
      "provenance": [],
      "authorship_tag": "ABX9TyOFZSeh59lyeI6X7AYJN+t1",
      "include_colab_link": true
    },
    "kernelspec": {
      "name": "python3",
      "display_name": "Python 3"
    },
    "language_info": {
      "name": "python"
    }
  },
  "cells": [
    {
      "cell_type": "markdown",
      "metadata": {
        "id": "view-in-github",
        "colab_type": "text"
      },
      "source": [
        "<a href=\"https://colab.research.google.com/github/MinoruHenrique/testingColab/blob/main/SyntheticDataGeneration.ipynb\" target=\"_parent\"><img src=\"https://colab.research.google.com/assets/colab-badge.svg\" alt=\"Open In Colab\"/></a>"
      ]
    },
    {
      "cell_type": "markdown",
      "source": [
        "# Google Drive integration\n",
        "Using google.colab module, it's possible to use GDrive storage in Google Colab\n",
        "Reference: https://colab.research.google.com/notebooks/io.ipynb#scrollTo=XDg9OBaYqRMd\n"
      ],
      "metadata": {
        "id": "RUmb1FmY4cuk"
      }
    },
    {
      "cell_type": "code",
      "execution_count": 2,
      "metadata": {
        "id": "y6e7g3X14ZXZ"
      },
      "outputs": [],
      "source": [
        "#modules\n",
        "from google.colab import drive"
      ]
    },
    {
      "cell_type": "code",
      "source": [
        "from google.colab import drive\n",
        "drive.mount('/content/drive')\n",
        "\n"
      ],
      "metadata": {
        "colab": {
          "base_uri": "https://localhost:8080/"
        },
        "id": "UaEPSmiB5IBe",
        "outputId": "76588898-1ed5-4b81-a15e-4c5d195fbe3b"
      },
      "execution_count": 5,
      "outputs": [
        {
          "output_type": "stream",
          "name": "stdout",
          "text": [
            "Drive already mounted at /content/drive; to attempt to forcibly remount, call drive.mount(\"/content/drive\", force_remount=True).\n"
          ]
        }
      ]
    },
    {
      "cell_type": "code",
      "source": [
        "with open('/content/drive/My Drive/foo.txt', 'w') as f:\n",
        "  f.write('Hello Google Drive!')"
      ],
      "metadata": {
        "id": "JiuuypKE6_XD"
      },
      "execution_count": 6,
      "outputs": []
    },
    {
      "cell_type": "markdown",
      "source": [
        "# Github integration\n",
        "Reference: "
      ],
      "metadata": {
        "id": "-4BMf_087dgP"
      }
    },
    {
      "cell_type": "code",
      "source": [
        ""
      ],
      "metadata": {
        "id": "PV-ofWh07LPt"
      },
      "execution_count": null,
      "outputs": []
    }
  ]
}